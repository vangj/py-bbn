{
 "cells": [
  {
   "cell_type": "markdown",
   "id": "b50efdfe-a72b-409f-b18b-661293777df4",
   "metadata": {},
   "source": [
    "# Parallel Inference\n",
    "\n",
    "Demonstrates using joblib for parallel inferences."
   ]
  },
  {
   "cell_type": "markdown",
   "id": "bb987c5c-1aa3-400a-b846-6dd01c4482d7",
   "metadata": {},
   "source": [
    "## Huang graph"
   ]
  },
  {
   "cell_type": "code",
   "execution_count": 1,
   "id": "a851ed80-9b10-480e-a993-764e0317e43e",
   "metadata": {
    "execution": {
     "iopub.execute_input": "2023-02-02T14:32:08.221261Z",
     "iopub.status.busy": "2023-02-02T14:32:08.220261Z",
     "iopub.status.idle": "2023-02-02T14:32:08.447322Z",
     "shell.execute_reply": "2023-02-02T14:32:08.446322Z",
     "shell.execute_reply.started": "2023-02-02T14:32:08.221261Z"
    },
    "tags": []
   },
   "outputs": [],
   "source": [
    "from pybbn.graph.dag import Bbn\n",
    "from pybbn.graph.edge import Edge, EdgeType\n",
    "from pybbn.graph.jointree import EvidenceBuilder\n",
    "from pybbn.graph.node import BbnNode\n",
    "from pybbn.graph.variable import Variable\n",
    "from pybbn.pptc.inferencecontroller import InferenceController\n",
    "from random import choice, sample, randint\n",
    "\n",
    "def do_inference(junction_tree):\n",
    "    val = choice(['on', 'off'])\n",
    "    ev = EvidenceBuilder() \\\n",
    "        .with_node(join_tree.get_bbn_node_by_name('a')) \\\n",
    "        .with_evidence(val, 1.0) \\\n",
    "        .build()\n",
    "    \n",
    "    join_tree.unobserve_all()\n",
    "    join_tree.set_observation(ev)\n",
    "    \n",
    "    posteriors = join_tree.get_posteriors()\n",
    "    return posteriors['h']\n",
    "\n",
    "def do_random_inference(junction_tree):\n",
    "    def get_ev(n, v):\n",
    "        return EvidenceBuilder() \\\n",
    "            .with_node(join_tree.get_bbn_node_by_name(n)) \\\n",
    "            .with_evidence(v, 1.0) \\\n",
    "            .build()\n",
    "    \n",
    "    max_idx = randint(1, 3)\n",
    "    names = ['a', 'b', 'c', 'd', 'e', 'f', 'g']\n",
    "    names = sample(names, len(names))[:max_idx]\n",
    "    vals = [choice(['on', 'off']) for _ in range(len(names))]\n",
    "    evidences = [get_ev(n, v) for n, v in zip(names, vals)]\n",
    "    \n",
    "    join_tree.unobserve_all()\n",
    "    join_tree.update_evidences(evidences)\n",
    "    \n",
    "    posteriors = join_tree.get_posteriors()\n",
    "    return posteriors['h']\n",
    "\n",
    "# create the nodes\n",
    "a = BbnNode(Variable(0, 'a', ['on', 'off']), [0.5, 0.5])\n",
    "b = BbnNode(Variable(1, 'b', ['on', 'off']), [0.5, 0.5, 0.4, 0.6])\n",
    "c = BbnNode(Variable(2, 'c', ['on', 'off']), [0.7, 0.3, 0.2, 0.8])\n",
    "d = BbnNode(Variable(3, 'd', ['on', 'off']), [0.9, 0.1, 0.5, 0.5])\n",
    "e = BbnNode(Variable(4, 'e', ['on', 'off']), [0.3, 0.7, 0.6, 0.4])\n",
    "f = BbnNode(Variable(5, 'f', ['on', 'off']), [0.01, 0.99, 0.01, 0.99, 0.01, 0.99, 0.99, 0.01])\n",
    "g = BbnNode(Variable(6, 'g', ['on', 'off']), [0.8, 0.2, 0.1, 0.9])\n",
    "h = BbnNode(Variable(7, 'h', ['on', 'off']), [0.05, 0.95, 0.95, 0.05, 0.95, 0.05, 0.95, 0.05])\n",
    "\n",
    "# create the network structure\n",
    "bbn = Bbn() \\\n",
    "    .add_node(a) \\\n",
    "    .add_node(b) \\\n",
    "    .add_node(c) \\\n",
    "    .add_node(d) \\\n",
    "    .add_node(e) \\\n",
    "    .add_node(f) \\\n",
    "    .add_node(g) \\\n",
    "    .add_node(h) \\\n",
    "    .add_edge(Edge(a, b, EdgeType.DIRECTED)) \\\n",
    "    .add_edge(Edge(a, c, EdgeType.DIRECTED)) \\\n",
    "    .add_edge(Edge(b, d, EdgeType.DIRECTED)) \\\n",
    "    .add_edge(Edge(c, e, EdgeType.DIRECTED)) \\\n",
    "    .add_edge(Edge(d, f, EdgeType.DIRECTED)) \\\n",
    "    .add_edge(Edge(e, f, EdgeType.DIRECTED)) \\\n",
    "    .add_edge(Edge(c, g, EdgeType.DIRECTED)) \\\n",
    "    .add_edge(Edge(e, h, EdgeType.DIRECTED)) \\\n",
    "    .add_edge(Edge(g, h, EdgeType.DIRECTED))\n",
    "\n",
    "join_tree = InferenceController.apply(bbn)"
   ]
  },
  {
   "cell_type": "markdown",
   "id": "28180c36-fa8f-46b3-9c68-b25dfa4d3573",
   "metadata": {},
   "source": [
    "## Inference using list comprehension"
   ]
  },
  {
   "cell_type": "code",
   "execution_count": 2,
   "id": "fd0e75d1-cba6-4131-a953-e304b9f0e81f",
   "metadata": {
    "execution": {
     "iopub.execute_input": "2023-02-02T14:32:08.448324Z",
     "iopub.status.busy": "2023-02-02T14:32:08.448324Z",
     "iopub.status.idle": "2023-02-02T14:32:08.886485Z",
     "shell.execute_reply": "2023-02-02T14:32:08.886485Z",
     "shell.execute_reply.started": "2023-02-02T14:32:08.448324Z"
    },
    "tags": []
   },
   "outputs": [
    {
     "data": {
      "text/html": [
       "<div>\n",
       "<style scoped>\n",
       "    .dataframe tbody tr th:only-of-type {\n",
       "        vertical-align: middle;\n",
       "    }\n",
       "\n",
       "    .dataframe tbody tr th {\n",
       "        vertical-align: top;\n",
       "    }\n",
       "\n",
       "    .dataframe thead th {\n",
       "        text-align: right;\n",
       "    }\n",
       "</style>\n",
       "<table border=\"1\" class=\"dataframe\">\n",
       "  <thead>\n",
       "    <tr style=\"text-align: right;\">\n",
       "      <th></th>\n",
       "      <th>on</th>\n",
       "      <th>off</th>\n",
       "    </tr>\n",
       "  </thead>\n",
       "  <tbody>\n",
       "    <tr>\n",
       "      <th>0</th>\n",
       "      <td>0.7826</td>\n",
       "      <td>0.2174</td>\n",
       "    </tr>\n",
       "    <tr>\n",
       "      <th>1</th>\n",
       "      <td>0.7826</td>\n",
       "      <td>0.2174</td>\n",
       "    </tr>\n",
       "    <tr>\n",
       "      <th>2</th>\n",
       "      <td>0.8636</td>\n",
       "      <td>0.1364</td>\n",
       "    </tr>\n",
       "    <tr>\n",
       "      <th>3</th>\n",
       "      <td>0.8636</td>\n",
       "      <td>0.1364</td>\n",
       "    </tr>\n",
       "    <tr>\n",
       "      <th>4</th>\n",
       "      <td>0.8636</td>\n",
       "      <td>0.1364</td>\n",
       "    </tr>\n",
       "    <tr>\n",
       "      <th>5</th>\n",
       "      <td>0.7826</td>\n",
       "      <td>0.2174</td>\n",
       "    </tr>\n",
       "    <tr>\n",
       "      <th>6</th>\n",
       "      <td>0.7826</td>\n",
       "      <td>0.2174</td>\n",
       "    </tr>\n",
       "    <tr>\n",
       "      <th>7</th>\n",
       "      <td>0.8636</td>\n",
       "      <td>0.1364</td>\n",
       "    </tr>\n",
       "    <tr>\n",
       "      <th>8</th>\n",
       "      <td>0.7826</td>\n",
       "      <td>0.2174</td>\n",
       "    </tr>\n",
       "    <tr>\n",
       "      <th>9</th>\n",
       "      <td>0.8636</td>\n",
       "      <td>0.1364</td>\n",
       "    </tr>\n",
       "  </tbody>\n",
       "</table>\n",
       "</div>"
      ],
      "text/plain": [
       "       on     off\n",
       "0  0.7826  0.2174\n",
       "1  0.7826  0.2174\n",
       "2  0.8636  0.1364\n",
       "3  0.8636  0.1364\n",
       "4  0.8636  0.1364\n",
       "5  0.7826  0.2174\n",
       "6  0.7826  0.2174\n",
       "7  0.8636  0.1364\n",
       "8  0.7826  0.2174\n",
       "9  0.8636  0.1364"
      ]
     },
     "execution_count": 2,
     "metadata": {},
     "output_type": "execute_result"
    }
   ],
   "source": [
    "import pandas as pd\n",
    "\n",
    "pd.DataFrame([do_inference(join_tree) for _ in range(10)])"
   ]
  },
  {
   "cell_type": "code",
   "execution_count": 3,
   "id": "39b850c2-b4be-42de-a698-09e4609b431a",
   "metadata": {
    "execution": {
     "iopub.execute_input": "2023-02-02T14:32:08.888484Z",
     "iopub.status.busy": "2023-02-02T14:32:08.888484Z",
     "iopub.status.idle": "2023-02-02T14:32:08.935487Z",
     "shell.execute_reply": "2023-02-02T14:32:08.934484Z",
     "shell.execute_reply.started": "2023-02-02T14:32:08.888484Z"
    },
    "tags": []
   },
   "outputs": [
    {
     "data": {
      "text/html": [
       "<div>\n",
       "<style scoped>\n",
       "    .dataframe tbody tr th:only-of-type {\n",
       "        vertical-align: middle;\n",
       "    }\n",
       "\n",
       "    .dataframe tbody tr th {\n",
       "        vertical-align: top;\n",
       "    }\n",
       "\n",
       "    .dataframe thead th {\n",
       "        text-align: right;\n",
       "    }\n",
       "</style>\n",
       "<table border=\"1\" class=\"dataframe\">\n",
       "  <thead>\n",
       "    <tr style=\"text-align: right;\">\n",
       "      <th></th>\n",
       "      <th>on</th>\n",
       "      <th>off</th>\n",
       "    </tr>\n",
       "  </thead>\n",
       "  <tbody>\n",
       "    <tr>\n",
       "      <th>0</th>\n",
       "      <td>0.942802</td>\n",
       "      <td>0.057198</td>\n",
       "    </tr>\n",
       "    <tr>\n",
       "      <th>1</th>\n",
       "      <td>0.896000</td>\n",
       "      <td>0.104000</td>\n",
       "    </tr>\n",
       "    <tr>\n",
       "      <th>2</th>\n",
       "      <td>0.641253</td>\n",
       "      <td>0.358747</td>\n",
       "    </tr>\n",
       "    <tr>\n",
       "      <th>3</th>\n",
       "      <td>0.647545</td>\n",
       "      <td>0.352455</td>\n",
       "    </tr>\n",
       "    <tr>\n",
       "      <th>4</th>\n",
       "      <td>0.782600</td>\n",
       "      <td>0.217400</td>\n",
       "    </tr>\n",
       "    <tr>\n",
       "      <th>5</th>\n",
       "      <td>0.950000</td>\n",
       "      <td>0.050000</td>\n",
       "    </tr>\n",
       "    <tr>\n",
       "      <th>6</th>\n",
       "      <td>0.734000</td>\n",
       "      <td>0.266000</td>\n",
       "    </tr>\n",
       "    <tr>\n",
       "      <th>7</th>\n",
       "      <td>0.896000</td>\n",
       "      <td>0.104000</td>\n",
       "    </tr>\n",
       "    <tr>\n",
       "      <th>8</th>\n",
       "      <td>0.821909</td>\n",
       "      <td>0.178091</td>\n",
       "    </tr>\n",
       "    <tr>\n",
       "      <th>9</th>\n",
       "      <td>0.950000</td>\n",
       "      <td>0.050000</td>\n",
       "    </tr>\n",
       "  </tbody>\n",
       "</table>\n",
       "</div>"
      ],
      "text/plain": [
       "         on       off\n",
       "0  0.942802  0.057198\n",
       "1  0.896000  0.104000\n",
       "2  0.641253  0.358747\n",
       "3  0.647545  0.352455\n",
       "4  0.782600  0.217400\n",
       "5  0.950000  0.050000\n",
       "6  0.734000  0.266000\n",
       "7  0.896000  0.104000\n",
       "8  0.821909  0.178091\n",
       "9  0.950000  0.050000"
      ]
     },
     "execution_count": 3,
     "metadata": {},
     "output_type": "execute_result"
    }
   ],
   "source": [
    "pd.DataFrame([do_random_inference(join_tree) for _ in range(10)])"
   ]
  },
  {
   "cell_type": "markdown",
   "id": "a102f8b8-d3ed-4ced-915b-7f435b91bfa4",
   "metadata": {},
   "source": [
    "## Inference using joblib\n",
    "\n",
    "Can the join tree be serialized/deserialzed properly for use with joblib?"
   ]
  },
  {
   "cell_type": "code",
   "execution_count": 4,
   "id": "3feacc9b-7cdd-4167-b2c5-51f897bd4d0d",
   "metadata": {
    "execution": {
     "iopub.execute_input": "2023-02-02T14:32:08.936483Z",
     "iopub.status.busy": "2023-02-02T14:32:08.936483Z",
     "iopub.status.idle": "2023-02-02T14:32:10.204649Z",
     "shell.execute_reply": "2023-02-02T14:32:10.204649Z",
     "shell.execute_reply.started": "2023-02-02T14:32:08.936483Z"
    },
    "tags": []
   },
   "outputs": [
    {
     "data": {
      "text/plain": [
       "[{'on': 0.7826, 'off': 0.2174},\n",
       " {'on': 0.7826, 'off': 0.2174},\n",
       " {'on': 0.7826, 'off': 0.2174},\n",
       " {'on': 0.7826, 'off': 0.2174},\n",
       " {'on': 0.7826, 'off': 0.2174},\n",
       " {'on': 0.7826, 'off': 0.2174},\n",
       " {'on': 0.7826, 'off': 0.2174},\n",
       " {'on': 0.7826, 'off': 0.2174},\n",
       " {'on': 0.7826, 'off': 0.2174},\n",
       " {'on': 0.7826, 'off': 0.2174}]"
      ]
     },
     "execution_count": 4,
     "metadata": {},
     "output_type": "execute_result"
    }
   ],
   "source": [
    "from joblib import Parallel, delayed\n",
    "\n",
    "Parallel(n_jobs=2)(delayed(do_inference)(join_tree) for _ in range(10))"
   ]
  },
  {
   "cell_type": "code",
   "execution_count": 5,
   "id": "12058470-3e69-42db-b741-b85e0b3a2bea",
   "metadata": {
    "execution": {
     "iopub.execute_input": "2023-02-02T14:32:10.205648Z",
     "iopub.status.busy": "2023-02-02T14:32:10.205648Z",
     "iopub.status.idle": "2023-02-02T14:32:10.236648Z",
     "shell.execute_reply": "2023-02-02T14:32:10.235651Z",
     "shell.execute_reply.started": "2023-02-02T14:32:10.205648Z"
    },
    "tags": []
   },
   "outputs": [
    {
     "data": {
      "text/plain": [
       "[{'on': 0.7340000000000001, 'off': 0.266},\n",
       " {'on': 0.7340000000000001, 'off': 0.266},\n",
       " {'on': 0.7340000000000001, 'off': 0.266},\n",
       " {'on': 0.7340000000000001, 'off': 0.266},\n",
       " {'on': 0.7340000000000001, 'off': 0.266},\n",
       " {'on': 0.8477732309663355, 'off': 0.15222676903366444},\n",
       " {'on': 0.7340000000000001, 'off': 0.266},\n",
       " {'on': 0.8477732309663355, 'off': 0.15222676903366444},\n",
       " {'on': 0.7340000000000001, 'off': 0.266},\n",
       " {'on': 0.7340000000000001, 'off': 0.266}]"
      ]
     },
     "execution_count": 5,
     "metadata": {},
     "output_type": "execute_result"
    }
   ],
   "source": [
    "Parallel(n_jobs=2)(delayed(do_random_inference)(join_tree) for _ in range(10))"
   ]
  },
  {
   "cell_type": "code",
   "execution_count": null,
   "id": "5b42b16a-1b4b-42a2-8ce6-e2658575245b",
   "metadata": {},
   "outputs": [],
   "source": []
  },
  {
   "cell_type": "code",
   "execution_count": null,
   "id": "d171d7a3-02ab-4f78-a12a-6fedcd674df5",
   "metadata": {},
   "outputs": [],
   "source": []
  }
 ],
 "metadata": {
  "kernelspec": {
   "display_name": "Python 3 (ipykernel)",
   "language": "python",
   "name": "python3"
  },
  "language_info": {
   "codemirror_mode": {
    "name": "ipython",
    "version": 3
   },
   "file_extension": ".py",
   "mimetype": "text/x-python",
   "name": "python",
   "nbconvert_exporter": "python",
   "pygments_lexer": "ipython3",
   "version": "3.8.16"
  },
  "widgets": {
   "application/vnd.jupyter.widget-state+json": {
    "state": {},
    "version_major": 2,
    "version_minor": 0
   }
  }
 },
 "nbformat": 4,
 "nbformat_minor": 5
}
